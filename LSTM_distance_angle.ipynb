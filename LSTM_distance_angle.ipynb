{
 "cells": [
  {
   "cell_type": "code",
   "execution_count": null,
   "metadata": {
    "_cell_guid": "0138efb7-db35-41ad-bd9c-477f6125e314",
    "_uuid": "de27696384b279bedaeef9f3debf70eb645e84c9",
    "collapsed": true
   },
   "outputs": [],
   "source": [
    "#Importing necessary libraries\n",
    "import pandas as pd\n",
    "import numpy as np\n",
    "from tqdm import tqdm\n",
    "from keras.layers import Merge,merge,concatenate\n",
    "from keras.layers import Dense, Input, LSTM, Embedding, Dropout,Lambda\n",
    "from keras.models import Model\n",
    "from keras.layers.normalization import BatchNormalization\n",
    "from keras.callbacks import EarlyStopping\n",
    "from keras.optimizers import Adam, RMSprop\n",
    "from keras import backend as K"
   ]
  },
  {
   "cell_type": "code",
   "execution_count": null,
   "metadata": {
    "_cell_guid": "d81e4cb9-c3c0-4812-a524-0d324962f253",
    "_uuid": "648624632c9f9f9a7cf029b14887f433974fa0f9",
    "collapsed": true
   },
   "outputs": [],
   "source": [
    "#Loading the preprocessed data\n",
    "x1 = np.load(open('../input/preprocessing-final/q1_train.npy', 'rb'))\n",
    "x2 = np.load(open('../input/preprocessing-final/q2_train.npy', 'rb'))\n",
    "y_train = np.load(open('../input/preprocessing-final/y_train.npy', 'rb'))\n",
    "embedding_matrix = np.load(open('../input/preprocessing-final/embedding_matrix.npy', 'rb'))\n",
    "word_index = np.load(open('../input/preprocessing-final/word_index.npy', 'rb'))"
   ]
  },
  {
   "cell_type": "code",
   "execution_count": null,
   "metadata": {
    "_cell_guid": "bb4b7069-2307-446a-b913-e0f2be0786c1",
    "_uuid": "f87d0c96185ab1f83ae8595d0af8ba093791f7b8",
    "collapsed": true
   },
   "outputs": [],
   "source": [
    "#Function to return the sum of square distance of two tensors\n",
    "def vec_distance(vects):\n",
    "    x, y = vects\n",
    "    return K.sum(K.square(x - y), axis=1, keepdims=True)"
   ]
  },
  {
   "cell_type": "code",
   "execution_count": null,
   "metadata": {
    "_cell_guid": "c63b0c5b-a412-400b-8765-c86a6cd08cf7",
    "_uuid": "8355258f22f632901eada76d36dc109ed9f9090d",
    "collapsed": true
   },
   "outputs": [],
   "source": [
    "#Function to calculate the vector shape of output\n",
    "def vec_output_shape(shapes):\n",
    "    shape1, shape2 = shapes\n",
    "    return (shape1[0], 1)"
   ]
  },
  {
   "cell_type": "code",
   "execution_count": null,
   "metadata": {
    "_cell_guid": "eff8e048-12c1-4c3a-b902-67f29bb70021",
    "_uuid": "11ebc343bf58ef9a7da9f07c2540f7a56aeccc7f",
    "collapsed": true
   },
   "outputs": [],
   "source": [
    "nb_words=137043\n",
    "word_embedding_dim=300\n",
    "sequence_length=25\n",
    "max_len=25"
   ]
  },
  {
   "cell_type": "code",
   "execution_count": null,
   "metadata": {
    "_cell_guid": "5af95a37-fb4c-4e8f-b8f9-61afde748973",
    "_uuid": "7abb3c5dd61fb71e812ef4d1798a50d05877786c",
    "collapsed": true
   },
   "outputs": [],
   "source": [
    "#Input Layer\n",
    "w1 = Input(shape=(sequence_length,), dtype='int32')\n",
    "w2 = Input(shape=(sequence_length,), dtype='int32')\n",
    "#Word Representation Layer \n",
    "embedding_layer = Embedding(nb_words,word_embedding_dim,\n",
    "        weights=[embedding_matrix],\n",
    "        input_length=max_len,trainable=True)\n",
    "sequence1 = embedding_layer(w1)\n",
    "sequence2 = embedding_layer(w2)\n"
   ]
  },
  {
   "cell_type": "code",
   "execution_count": null,
   "metadata": {
    "_cell_guid": "eeb5dc3c-128c-4807-b337-aacce28208fb",
    "_uuid": "d7d0eb654e6e45a1c3d6bde16c159d36d8f740b1",
    "collapsed": true
   },
   "outputs": [],
   "source": [
    "#Context Representation Layer\n",
    "lstm_layer =LSTM(128)\n",
    "\n",
    "context1= lstm_layer(sequence1)\n",
    "context2 =lstm_layer(sequence2)\n",
    "#Matching Layer\n",
    "distance=Lambda(vec_distance, output_shape=vec_output_shape)([context1, context2])\n",
    "product = merge([context1,context2], mode= \"mul\")\n",
    "product=Dropout(0.4)(product)\n",
    "\n",
    "#Aggregation Layer\n",
    "merged = concatenate([distance, product])"
   ]
  },
  {
   "cell_type": "code",
   "execution_count": null,
   "metadata": {
    "_cell_guid": "75b3fd9c-3e7a-4505-bbb1-486de03746a6",
    "_uuid": "05980fb8c9bd10432ed06660923fefa5425ef237",
    "collapsed": true
   },
   "outputs": [],
   "source": [
    "#Fully Connected Layer\n",
    "dense1=Dense(16, activation='sigmoid')(merged)\n",
    "dense1 = Dropout(0.3)(dense1)\n",
    "\n",
    "bn2 = BatchNormalization()(dense1)\n",
    "\n",
    "#Prediction Layer\n",
    "prediction=Dense(1, activation='sigmoid')(bn2)"
   ]
  },
  {
   "cell_type": "code",
   "execution_count": null,
   "metadata": {
    "_cell_guid": "1925bcb3-7cae-4468-a1e3-06a0bd7b4237",
    "_uuid": "e269a2a1dfc0480a2b7231752945559afd8c59a2",
    "collapsed": true
   },
   "outputs": [],
   "source": [
    "#Model Summary\n",
    "model = Model(inputs=[w1, w2], outputs=prediction)\n",
    "model.summary()"
   ]
  },
  {
   "cell_type": "code",
   "execution_count": null,
   "metadata": {
    "_cell_guid": "e28246bf-ad28-40f6-9e07-acc2e1c33da4",
    "_uuid": "d67f17e4f43e8d0e39aa7fc5c8c37c6becac27b4",
    "collapsed": true
   },
   "outputs": [],
   "source": [
    "#Compiling Model\n",
    "model.compile(loss='binary_crossentropy',optimizer='adam',metrics=['acc'])"
   ]
  },
  {
   "cell_type": "code",
   "execution_count": null,
   "metadata": {
    "_cell_guid": "315335a4-0524-42e6-bf70-02ee9cf1f9c3",
    "_kg_hide-input": false,
    "_kg_hide-output": false,
    "_uuid": "4c3b671710ec92b3c57174e4cb3eded06a1037e9",
    "collapsed": true
   },
   "outputs": [],
   "source": [
    "#Fitting Model\n",
    "early_stopping =EarlyStopping(monitor='val_loss', patience=3)\n",
    "history=model.fit([x1,x2], y_train,validation_split=0.1, verbose=1, \n",
    "          epochs=15, batch_size=256, shuffle=True,class_weight=None, callbacks=[early_stopping])"
   ]
  },
  {
   "cell_type": "code",
   "execution_count": null,
   "metadata": {
    "_cell_guid": "23db8a9b-7da6-433c-baff-364768e29310",
    "_uuid": "58e409121e3b0b24cd40dc60711be64e10af5d01",
    "collapsed": true
   },
   "outputs": [],
   "source": [
    "# export model to JSON\n",
    "from keras.models import model_from_json\n",
    "model_json = model.to_json()\n",
    "with open(\"LSTM_model_quora.json\", \"w\") as json_file:\n",
    "    json_file.write(model_json)\n",
    "# serialize weights to HDF5\n",
    "model.save_weights(\"LSTM_model_quora.h5\")\n",
    "print(\"Model Saved\")"
   ]
  },
  {
   "cell_type": "code",
   "execution_count": null,
   "metadata": {
    "_cell_guid": "62238e23-dfa2-4abe-87b3-8b122399ca1c",
    "_uuid": "d8244245cce362a6865abc4950d5ce4c4437415a",
    "collapsed": true
   },
   "outputs": [],
   "source": [
    "# load json and create model\n",
    "json_file = open('LSTM_model_quora.json', 'r')\n",
    "loaded_model_json = json_file.read()\n",
    "json_file.close()\n",
    "model = model_from_json(loaded_model_json)\n",
    "# load weights into new model\n",
    "model.load_weights(\"LSTM_model_quora.h5\")\n",
    "print(\"Loaded model from disk\")"
   ]
  },
  {
   "cell_type": "code",
   "execution_count": null,
   "metadata": {
    "_cell_guid": "9121b98b-ea87-4977-b7d2-77d30888ad97",
    "_uuid": "cfe3fec79fa096e42f44b3b6b38679b6e736b97d",
    "collapsed": true
   },
   "outputs": [],
   "source": [
    "#Loading test set\n",
    "q1_test = np.load(open('../input/preprocessing-final/q1_test.npy', 'rb'))\n",
    "q2_test = np.load(open('../input/preprocessing-final/q2_test.npy', 'rb'))"
   ]
  },
  {
   "cell_type": "code",
   "execution_count": null,
   "metadata": {
    "_cell_guid": "94be5ad9-ba7d-4f0e-a8e7-4265de305e2a",
    "_uuid": "cd367fc555d6fdfff204a4dc4133f279a4b9c3d8",
    "collapsed": true
   },
   "outputs": [],
   "source": [
    "#Output probabilities for test set\n",
    "prediction=model.predict([q1_test,q2_test],verbose=0)"
   ]
  },
  {
   "cell_type": "code",
   "execution_count": null,
   "metadata": {
    "_cell_guid": "97b3fe26-18ef-4962-a13a-8baf8bd74d57",
    "_uuid": "e0fe240b2ad4b7b77fe46f7d7fe875a989b53258",
    "collapsed": true
   },
   "outputs": [],
   "source": [
    "#Generating submission file\n",
    "print(\"Writing output...\")\n",
    "sub = pd.DataFrame()\n",
    "data_test=pd.read_csv('../input/quora-question-pairs/test.csv')\n",
    "sub['test_id'] = data_test['test_id']\n",
    "sub['is_duplicate'] =prediction\n",
    "sub.to_csv(\"submission.csv\", index=False)"
   ]
  },
  {
   "cell_type": "code",
   "execution_count": null,
   "metadata": {
    "_cell_guid": "49f7a966-f9dd-49c1-b5ae-999336b2fc69",
    "_uuid": "f32bb8de2d1a6405c67532e275489f3d5cffddcc",
    "collapsed": true
   },
   "outputs": [],
   "source": []
  },
  {
   "cell_type": "code",
   "execution_count": null,
   "metadata": {
    "_cell_guid": "13c6b754-7b53-4cf4-8078-2bceb0df544a",
    "_uuid": "3c7a8dca365f73973b9bc8793674f6336d610546",
    "collapsed": true
   },
   "outputs": [],
   "source": []
  },
  {
   "cell_type": "code",
   "execution_count": null,
   "metadata": {
    "_cell_guid": "d1f58e7d-c51e-4793-bd97-2cff8c8901e6",
    "_uuid": "2f2398574585aefb4ea9c6503c3e02e6835cc595",
    "collapsed": true
   },
   "outputs": [],
   "source": []
  }
 ],
 "metadata": {
  "kernelspec": {
   "display_name": "Python 3",
   "language": "python",
   "name": "python3"
  },
  "language_info": {
   "codemirror_mode": {
    "name": "ipython",
    "version": 3
   },
   "file_extension": ".py",
   "mimetype": "text/x-python",
   "name": "python",
   "nbconvert_exporter": "python",
   "pygments_lexer": "ipython3",
   "version": "3.6.3"
  }
 },
 "nbformat": 4,
 "nbformat_minor": 1
}
